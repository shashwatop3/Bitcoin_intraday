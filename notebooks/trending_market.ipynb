{
 "cells": [
  {
   "cell_type": "code",
   "execution_count": 58,
   "metadata": {},
   "outputs": [],
   "source": [
    "import pandas as pd\n",
    "import numpy as np\n",
    "import matplotlib.pyplot as plt\n",
    "import seaborn as sns\n",
    "from sklearn.preprocessing import StandardScaler\n",
    "from keras.layers import Input, Bidirectional, LSTM, Dense, Attention, Concatenate\n",
    "from keras.models import Model\n",
    "from sklearn.preprocessing import StandardScaler, RobustScaler, MinMaxScaler\n",
    "import numpy as np\n",
    "\n",
    "        "
   ]
  },
  {
   "cell_type": "code",
   "execution_count": 59,
   "metadata": {},
   "outputs": [
    {
     "name": "stdout",
     "output_type": "stream",
     "text": [
      "Num GPUs Available:  1\n"
     ]
    }
   ],
   "source": [
    "import tensorflow as tf\n",
    "print(\"Num GPUs Available: \", len(tf.config.list_physical_devices('GPU')))\n",
    "# tf.debugging.set_log_device_placement(False)"
   ]
  },
  {
   "cell_type": "code",
   "execution_count": null,
   "metadata": {},
   "outputs": [],
   "source": [
    "df = pd.read_parquet('../data/btcusd_preprcd_with_regimes.parquet')\n",
    "df = df[df['smoothed_regimes'] == 2]\n",
    "df.dropna(inplace=True)"
   ]
  },
  {
   "cell_type": "code",
   "execution_count": 61,
   "metadata": {},
   "outputs": [
    {
     "name": "stdout",
     "output_type": "stream",
     "text": [
      "<class 'pandas.core.frame.DataFrame'>\n",
      "Index: 257888 entries, 47 to 292662\n",
      "Data columns (total 13 columns):\n",
      " #   Column            Non-Null Count   Dtype  \n",
      "---  ------            --------------   -----  \n",
      " 0   open              257888 non-null  float64\n",
      " 1   high              257888 non-null  float64\n",
      " 2   low               257888 non-null  float64\n",
      " 3   close             257888 non-null  float64\n",
      " 4   BB_up_diff        257888 non-null  float64\n",
      " 5   BB_down_diff      257888 non-null  float64\n",
      " 6   OBV_Z             257888 non-null  float64\n",
      " 7   MACD_Histogram    257888 non-null  float64\n",
      " 8   RSI               257888 non-null  float64\n",
      " 9   CCI               257888 non-null  float64\n",
      " 10  predict_trend     257888 non-null  float64\n",
      " 11  regime            257888 non-null  float64\n",
      " 12  smoothed_regimes  257888 non-null  float64\n",
      "dtypes: float64(13)\n",
      "memory usage: 27.5 MB\n",
      "None\n"
     ]
    },
    {
     "data": {
      "text/plain": [
       "open                0\n",
       "high                0\n",
       "low                 0\n",
       "close               0\n",
       "BB_up_diff          0\n",
       "BB_down_diff        0\n",
       "OBV_Z               0\n",
       "MACD_Histogram      0\n",
       "RSI                 0\n",
       "CCI                 0\n",
       "predict_trend       0\n",
       "regime              0\n",
       "smoothed_regimes    0\n",
       "dtype: int64"
      ]
     },
     "execution_count": 61,
     "metadata": {},
     "output_type": "execute_result"
    }
   ],
   "source": [
    "print(df.info())\n",
    "df.isna().sum()"
   ]
  },
  {
   "cell_type": "code",
   "execution_count": 62,
   "metadata": {},
   "outputs": [],
   "source": [
    "def preprocess_data(train_df):\n",
    "    # Log-transform prices\n",
    "    for col in ['open', 'high', 'low', 'close']:\n",
    "        train_df[f'{col}_log_return'] = np.log(train_df[col] / train_df[col].shift(1))\n",
    "    \n",
    "    # Robust scaling for Bollinger features\n",
    "    robust_cols = ['BB_up_diff', 'BB_down_diff']\n",
    "    robust_scaler = RobustScaler().fit(train_df[robust_cols])\n",
    "    train_df[robust_cols] = robust_scaler.transform(train_df[robust_cols])\n",
    "    \n",
    "    # Standard scaling for MACD and CCI\n",
    "    std_cols = ['MACD_Histogram', 'CCI']\n",
    "    std_scaler = StandardScaler().fit(train_df[std_cols])\n",
    "    train_df[std_cols] = std_scaler.transform(train_df[std_cols])\n",
    "    \n",
    "    # MinMax for RSI (focus on 30–70 range)\n",
    "    train_df['RSI'] = np.clip(train_df['RSI'], 30, 70)\n",
    "    rsi_scaler = MinMaxScaler(feature_range=(0, 1)).fit(train_df[['RSI']])\n",
    "    train_df['RSI'] = rsi_scaler.transform(train_df[['RSI']])\n",
    "    \n",
    "    train_df.drop(columns=['open', 'high', 'low', 'close', 'smoothed_regimes'], inplace=True)\n",
    "    train_df.dropna(inplace=True)\n",
    "    return train_df"
   ]
  },
  {
   "cell_type": "code",
   "execution_count": 63,
   "metadata": {},
   "outputs": [],
   "source": [
    "df = preprocess_data(df)"
   ]
  },
  {
   "cell_type": "code",
   "execution_count": 64,
   "metadata": {},
   "outputs": [
    {
     "data": {
      "text/html": [
       "<div>\n",
       "<style scoped>\n",
       "    .dataframe tbody tr th:only-of-type {\n",
       "        vertical-align: middle;\n",
       "    }\n",
       "\n",
       "    .dataframe tbody tr th {\n",
       "        vertical-align: top;\n",
       "    }\n",
       "\n",
       "    .dataframe thead th {\n",
       "        text-align: right;\n",
       "    }\n",
       "</style>\n",
       "<table border=\"1\" class=\"dataframe\">\n",
       "  <thead>\n",
       "    <tr style=\"text-align: right;\">\n",
       "      <th></th>\n",
       "      <th>BB_up_diff</th>\n",
       "      <th>BB_down_diff</th>\n",
       "      <th>OBV_Z</th>\n",
       "      <th>MACD_Histogram</th>\n",
       "      <th>RSI</th>\n",
       "      <th>CCI</th>\n",
       "      <th>predict_trend</th>\n",
       "      <th>regime</th>\n",
       "      <th>open_log_return</th>\n",
       "      <th>high_log_return</th>\n",
       "      <th>low_log_return</th>\n",
       "      <th>close_log_return</th>\n",
       "    </tr>\n",
       "  </thead>\n",
       "  <tbody>\n",
       "    <tr>\n",
       "      <th>48</th>\n",
       "      <td>-0.328604</td>\n",
       "      <td>0.266544</td>\n",
       "      <td>0.753203</td>\n",
       "      <td>0.029921</td>\n",
       "      <td>0.993421</td>\n",
       "      <td>0.948745</td>\n",
       "      <td>-1.264000</td>\n",
       "      <td>1.0</td>\n",
       "      <td>0.001996</td>\n",
       "      <td>0.002316</td>\n",
       "      <td>0.000000</td>\n",
       "      <td>0.003951</td>\n",
       "    </tr>\n",
       "    <tr>\n",
       "      <th>49</th>\n",
       "      <td>-0.319143</td>\n",
       "      <td>0.272646</td>\n",
       "      <td>0.217083</td>\n",
       "      <td>0.027623</td>\n",
       "      <td>0.950845</td>\n",
       "      <td>0.638667</td>\n",
       "      <td>-0.025333</td>\n",
       "      <td>1.0</td>\n",
       "      <td>0.003410</td>\n",
       "      <td>0.007619</td>\n",
       "      <td>0.001037</td>\n",
       "      <td>-0.001819</td>\n",
       "    </tr>\n",
       "    <tr>\n",
       "      <th>50</th>\n",
       "      <td>-0.313345</td>\n",
       "      <td>0.276584</td>\n",
       "      <td>0.017523</td>\n",
       "      <td>0.023494</td>\n",
       "      <td>0.937636</td>\n",
       "      <td>0.458955</td>\n",
       "      <td>1.628667</td>\n",
       "      <td>1.0</td>\n",
       "      <td>0.000200</td>\n",
       "      <td>-0.005340</td>\n",
       "      <td>0.000974</td>\n",
       "      <td>-0.000988</td>\n",
       "    </tr>\n",
       "    <tr>\n",
       "      <th>51</th>\n",
       "      <td>-0.313166</td>\n",
       "      <td>0.277045</td>\n",
       "      <td>0.068341</td>\n",
       "      <td>0.020422</td>\n",
       "      <td>0.769865</td>\n",
       "      <td>0.495102</td>\n",
       "      <td>2.892000</td>\n",
       "      <td>1.0</td>\n",
       "      <td>-0.003008</td>\n",
       "      <td>-0.001663</td>\n",
       "      <td>-0.003080</td>\n",
       "      <td>0.000587</td>\n",
       "    </tr>\n",
       "    <tr>\n",
       "      <th>52</th>\n",
       "      <td>-0.315519</td>\n",
       "      <td>0.276394</td>\n",
       "      <td>0.083305</td>\n",
       "      <td>0.019048</td>\n",
       "      <td>0.721282</td>\n",
       "      <td>0.678630</td>\n",
       "      <td>4.018000</td>\n",
       "      <td>1.0</td>\n",
       "      <td>-0.000124</td>\n",
       "      <td>-0.000370</td>\n",
       "      <td>0.000000</td>\n",
       "      <td>0.001281</td>\n",
       "    </tr>\n",
       "  </tbody>\n",
       "</table>\n",
       "</div>"
      ],
      "text/plain": [
       "    BB_up_diff  BB_down_diff     OBV_Z  MACD_Histogram       RSI       CCI  \\\n",
       "48   -0.328604      0.266544  0.753203        0.029921  0.993421  0.948745   \n",
       "49   -0.319143      0.272646  0.217083        0.027623  0.950845  0.638667   \n",
       "50   -0.313345      0.276584  0.017523        0.023494  0.937636  0.458955   \n",
       "51   -0.313166      0.277045  0.068341        0.020422  0.769865  0.495102   \n",
       "52   -0.315519      0.276394  0.083305        0.019048  0.721282  0.678630   \n",
       "\n",
       "    predict_trend  regime  open_log_return  high_log_return  low_log_return  \\\n",
       "48      -1.264000     1.0         0.001996         0.002316        0.000000   \n",
       "49      -0.025333     1.0         0.003410         0.007619        0.001037   \n",
       "50       1.628667     1.0         0.000200        -0.005340        0.000974   \n",
       "51       2.892000     1.0        -0.003008        -0.001663       -0.003080   \n",
       "52       4.018000     1.0        -0.000124        -0.000370        0.000000   \n",
       "\n",
       "    close_log_return  \n",
       "48          0.003951  \n",
       "49         -0.001819  \n",
       "50         -0.000988  \n",
       "51          0.000587  \n",
       "52          0.001281  "
      ]
     },
     "execution_count": 64,
     "metadata": {},
     "output_type": "execute_result"
    }
   ],
   "source": [
    "df.head()"
   ]
  },
  {
   "cell_type": "code",
   "execution_count": 65,
   "metadata": {},
   "outputs": [],
   "source": [
    "y = df['predict_trend']\n",
    "x = df.drop(columns=['predict_trend'])\n",
    "x_train = x[:int(len(x)*0.6)]\n",
    "y_train = y[:int(len(x)*0.6)]\n",
    "x_val = x[int(len(x)*0.6):int(len(x)*0.8)]\n",
    "y_val = y[int(len(x)*0.6):int(len(x)*0.8)]\n",
    "x_test = x[int(len(x)*0.8):]\n",
    "y_test = y[int(len(x)*0.8):]"
   ]
  },
  {
   "cell_type": "code",
   "execution_count": 67,
   "metadata": {},
   "outputs": [],
   "source": [
    "x_train = np.nan_to_num(x_train, nan=0.0, posinf=0.0, neginf=0.0)\n",
    "y_train = np.nan_to_num(y_train, nan=0.0, posinf=0.0, neginf=0.0)\n",
    "x_val = np.nan_to_num(x_val, nan=0.0, posinf=0.0, neginf=0.0)\n",
    "y_val = np.nan_to_num(y_val, nan=0.0, posinf=0.0, neginf=0.0)"
   ]
  },
  {
   "cell_type": "code",
   "execution_count": null,
   "metadata": {},
   "outputs": [
    {
     "name": "stdout",
     "output_type": "stream",
     "text": [
      "Epoch 1/5\n"
     ]
    },
    {
     "name": "stderr",
     "output_type": "stream",
     "text": [
      "2025-03-16 13:34:38.140377: E tensorflow/core/grappler/optimizers/meta_optimizer.cc:961] PluggableGraphOptimizer failed: INVALID_ARGUMENT: Failed to deserialize the `graph_buf`.\n"
     ]
    },
    {
     "name": "stdout",
     "output_type": "stream",
     "text": [
      "\u001b[1m1157/4836\u001b[0m \u001b[32m━━━━\u001b[0m\u001b[37m━━━━━━━━━━━━━━━━\u001b[0m \u001b[1m2:36\u001b[0m 43ms/step - loss: 7964.4116"
     ]
    }
   ],
   "source": [
    "from keras.regularizers import l2\n",
    "\n",
    "# Define model parameters\n",
    "x_train = x_train.reshape(x_train.shape[0], x_train.shape[1], 1)\n",
    "time_steps = x_train.shape[1]\n",
    "num_features = x_train.shape[2]\n",
    "lstm_units = 64\n",
    "\n",
    "# Define model architecture\n",
    "inputs = Input(shape=(time_steps, num_features))\n",
    "lstm_out = Bidirectional(LSTM(lstm_units, return_sequences=True, kernel_regularizer=l2(0.01)))(inputs)  # L2 regularization\n",
    "attention = Attention()([lstm_out, lstm_out])\n",
    "concat = Concatenate()([lstm_out, attention])\n",
    "output = Dense(1, kernel_regularizer=l2(0.01))(concat)  # L2 regularization\n",
    "\n",
    "model = Model(inputs=inputs, outputs=output)\n",
    "\n",
    "# Compile model\n",
    "model.compile(optimizer='adam', loss='mse')\n",
    "\n",
    "# Train model\n",
    "model.fit(x_train, y_train, epochs=5, batch_size=32, validation_data=(x_val, y_val))\n"
   ]
  }
 ],
 "metadata": {
  "kernelspec": {
   "display_name": "Universal",
   "language": "python",
   "name": "python3"
  },
  "language_info": {
   "codemirror_mode": {
    "name": "ipython",
    "version": 3
   },
   "file_extension": ".py",
   "mimetype": "text/x-python",
   "name": "python",
   "nbconvert_exporter": "python",
   "pygments_lexer": "ipython3",
   "version": "3.9.18"
  }
 },
 "nbformat": 4,
 "nbformat_minor": 2
}
