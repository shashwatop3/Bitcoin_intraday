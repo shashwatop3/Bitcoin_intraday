{
 "cells": [
  {
   "cell_type": "code",
   "execution_count": 43,
   "metadata": {},
   "outputs": [],
   "source": [
    "import pandas as pd\n",
    "import numpy as np\n",
    "import matplotlib.pyplot as plt\n",
    "import seaborn as sns\n",
    "from sklearn.preprocessing import StandardScaler"
   ]
  },
  {
   "cell_type": "code",
   "execution_count": 44,
   "metadata": {},
   "outputs": [],
   "source": [
    "import sys\n",
    "import os\n",
    "\n",
    "sys.path.append(os.path.abspath(os.path.join(os.getcwd(), '..')))\n",
    "sys.path.append(\"/Users/Codes/Bitcoin_trader\")"
   ]
  },
  {
   "cell_type": "code",
   "execution_count": 45,
   "metadata": {},
   "outputs": [],
   "source": [
    "from positions import Positions\n",
    "from order_class import BuyOrder, SellOrder"
   ]
  },
  {
   "cell_type": "code",
   "execution_count": 46,
   "metadata": {},
   "outputs": [],
   "source": [
    "df = pd.read_parquet('../data/btcusd_preprcd_with_regimes.parquet')\n",
    "df = df[df['smoothed_regimes'] == 1]\n",
    "df.dropna(inplace=True)"
   ]
  },
  {
   "cell_type": "code",
   "execution_count": 47,
   "metadata": {},
   "outputs": [],
   "source": [
    "def preprocess_data(train_df):\n",
    "    # Log-transform prices\n",
    "    for col in ['open', 'high', 'low', 'close']:\n",
    "        train_df[f'{col}_log_return'] = np.log(train_df[col] / train_df[col].shift(1))\n",
    "    \n",
    "    # Standard scaling for MACD and CCI\n",
    "    std_cols = ['MACD_Histogram', 'CCI']\n",
    "    std_scaler = StandardScaler().fit(train_df[std_cols])\n",
    "    train_df[std_cols] = std_scaler.transform(train_df[std_cols])\n",
    "    \n",
    "    # MinMax for RSI (focus on 30–70 range)\n",
    "    # train_df['RSI'] = np.clip(train_df['RSI'], 30, 70)\n",
    "    # rsi_scaler = MinMaxScaler(feature_range=(0, 1)).fit(train_df[['RSI']])\n",
    "    # train_df['RSI'] = rsi_scaler.transform(train_df[['RSI']])\n",
    "    \n",
    "    train_df.drop(columns=['open', 'high', 'low', 'close', 'smoothed_regimes'], inplace=True)\n",
    "    train_df.dropna(inplace=True)\n",
    "    return train_df"
   ]
  },
  {
   "cell_type": "code",
   "execution_count": 48,
   "metadata": {},
   "outputs": [],
   "source": [
    "df = preprocess_data(df)\n",
    "sc = StandardScaler()\n",
    "df['predict_trend'] = sc.fit_transform(df[['predict_trend']])"
   ]
  },
  {
   "cell_type": "code",
   "execution_count": 49,
   "metadata": {},
   "outputs": [],
   "source": [
    "y = df['predict_trend']\n",
    "x = df.drop(columns=['predict_trend'])"
   ]
  },
  {
   "cell_type": "code",
   "execution_count": 50,
   "metadata": {},
   "outputs": [
    {
     "name": "stderr",
     "output_type": "stream",
     "text": [
      "WARNING:absl:Compiled the loaded model, but the compiled metrics have yet to be built. `model.compile_metrics` will be empty until you train or evaluate the model.\n",
      "2025-03-18 22:57:00.921967: E tensorflow/core/grappler/optimizers/meta_optimizer.cc:961] PluggableGraphOptimizer failed: INVALID_ARGUMENT: Failed to deserialize the `graph_buf`.\n"
     ]
    },
    {
     "name": "stdout",
     "output_type": "stream",
     "text": [
      "\u001b[1m8059/8059\u001b[0m \u001b[32m━━━━━━━━━━━━━━━━━━━━\u001b[0m\u001b[37m\u001b[0m \u001b[1m214s\u001b[0m 26ms/step\n"
     ]
    },
    {
     "name": "stderr",
     "output_type": "stream",
     "text": [
      "2025-03-18 23:00:34.308432: E tensorflow/core/grappler/optimizers/meta_optimizer.cc:961] PluggableGraphOptimizer failed: INVALID_ARGUMENT: Failed to deserialize the `graph_buf`.\n"
     ]
    }
   ],
   "source": [
    "from keras.metrics import MeanSquaredError\n",
    "import tensorflow as tf\n",
    "\n",
    "custom_objects = {'mse': MeanSquaredError()}\n",
    "\n",
    "model_n = tf.keras.models.load_model('../models/sideways_market_model2.h5', custom_objects=custom_objects)\n",
    "\n",
    "y_pred = model_n.predict(x)"
   ]
  },
  {
   "cell_type": "code",
   "execution_count": 51,
   "metadata": {},
   "outputs": [],
   "source": [
    "y_pred = sc.inverse_transform(np.array(y_pred).reshape(-1, 1))\n",
    "y = sc.inverse_transform(np.array(y).reshape(-1, 1))"
   ]
  },
  {
   "cell_type": "code",
   "execution_count": 64,
   "metadata": {},
   "outputs": [],
   "source": [
    "threshold = 500\n",
    "signals_pred = np.where(y_pred > threshold, 1, np.where(y_pred < -threshold, -1, 0)).astype(int)\n",
    "signals_test = np.where(y > threshold, 1, np.where(y < -threshold, -1, 0)).astype(int)"
   ]
  },
  {
   "cell_type": "code",
   "execution_count": 71,
   "metadata": {},
   "outputs": [
    {
     "name": "stdout",
     "output_type": "stream",
     "text": [
      "Classification Report (Excluding Class 0):\n",
      "              precision    recall  f1-score   support\n",
      "\n",
      "          -1       0.43      0.10      0.16      1232\n",
      "           1       0.53      0.25      0.34      1503\n",
      "\n",
      "   micro avg       0.50      0.18      0.27      2735\n",
      "   macro avg       0.48      0.17      0.25      2735\n",
      "weighted avg       0.49      0.18      0.26      2735\n",
      "\n",
      "Accuracy (Excluding Class 0): 0.17989031078610604\n"
     ]
    }
   ],
   "source": [
    "from sklearn.metrics import precision_score, recall_score, f1_score, accuracy_score, classification_report\n",
    "\n",
    "# Filter out the 0 class\n",
    "non_zero_indices = signals_test != 0\n",
    "filtered_signals_test = signals_test[non_zero_indices]\n",
    "filtered_signals_pred = signals_pred[non_zero_indices]\n",
    "\n",
    "# Calculate classification metrics for -1 and 1 classes only\n",
    "print(\"Classification Report (Excluding Class 0):\")\n",
    "print(classification_report(filtered_signals_test, filtered_signals_pred, labels=[-1, 1]))\n",
    "\n",
    "# Calculate accuracy for -1 and 1 classes only\n",
    "filtered_accuracy = accuracy_score(filtered_signals_test, filtered_signals_pred)\n",
    "print(f\"Accuracy (Excluding Class 0): {filtered_accuracy}\")"
   ]
  },
  {
   "cell_type": "code",
   "execution_count": 65,
   "metadata": {},
   "outputs": [],
   "source": [
    "# stop_loss = 0.2%\n",
    "# take_profit = 0.6%\n",
    "\n",
    "price = y\n",
    "signals = signals_pred"
   ]
  },
  {
   "cell_type": "code",
   "execution_count": 66,
   "metadata": {},
   "outputs": [],
   "source": [
    "def backtest(signals, price, stoploss, takeprofit):\n",
    "    positions = Positions()\n",
    "    for i in range(250000, len(signals)):\n",
    "        positions.check_positions(price[i])\n",
    "        if signals[i] == 1:\n",
    "            positions.add_position(BuyOrder(price[i], 1, stoploss=stoploss, takeprofit=takeprofit))\n",
    "        elif signals[i] == -1:\n",
    "            positions.add_position(SellOrder(price[i], 1, stoploss=stoploss, takeprofit=takeprofit))\n",
    "    print(positions.get_profit_count())\n",
    "    print(positions.get_loss_count())\n",
    "    print(positions.get_success_rate())\n",
    "    signal_rate = (positions.get_profit_count()+positions.get_loss_count())/len(signals)\n",
    "    print(signal_rate)\n",
    "    \n"
   ]
  },
  {
   "cell_type": "code",
   "execution_count": 67,
   "metadata": {},
   "outputs": [],
   "source": [
    "stloss = [0.001, 0.002, 0.003, 0.004, 0.005]\n",
    "takeprofit = [tp*3 for tp in stloss]"
   ]
  },
  {
   "cell_type": "code",
   "execution_count": 68,
   "metadata": {},
   "outputs": [
    {
     "name": "stdout",
     "output_type": "stream",
     "text": [
      "Stop loss: 0.001\n",
      "Take profit: 0.003\n",
      "292\n",
      "310\n",
      "0.4850498338870432\n",
      "0.002334355744958063\n",
      "\n",
      "\n",
      "Stop loss: 0.002\n",
      "Take profit: 0.006\n",
      "292\n",
      "310\n",
      "0.4850498338870432\n",
      "0.002334355744958063\n",
      "\n",
      "\n",
      "Stop loss: 0.003\n",
      "Take profit: 0.009000000000000001\n",
      "292\n",
      "310\n",
      "0.4850498338870432\n",
      "0.002334355744958063\n",
      "\n",
      "\n",
      "Stop loss: 0.004\n",
      "Take profit: 0.012\n",
      "292\n",
      "310\n",
      "0.4850498338870432\n",
      "0.002334355744958063\n",
      "\n",
      "\n",
      "Stop loss: 0.005\n",
      "Take profit: 0.015\n",
      "292\n",
      "310\n",
      "0.4850498338870432\n",
      "0.002334355744958063\n",
      "\n",
      "\n"
     ]
    }
   ],
   "source": [
    "for i in range(len(stloss)):\n",
    "    st = stloss[i]\n",
    "    tp = takeprofit[i]\n",
    "    print(f\"Stop loss: {st}\")\n",
    "    print(f\"Take profit: {tp}\")\n",
    "    backtest(signals, price, stoploss=st, takeprofit=tp)\n",
    "    print(\"\\n\")"
   ]
  },
  {
   "cell_type": "code",
   "execution_count": 69,
   "metadata": {},
   "outputs": [],
   "source": [
    "# print(positions.profit_loss)\n"
   ]
  },
  {
   "cell_type": "code",
   "execution_count": null,
   "metadata": {},
   "outputs": [],
   "source": []
  }
 ],
 "metadata": {
  "kernelspec": {
   "display_name": "Universal",
   "language": "python",
   "name": "python3"
  },
  "language_info": {
   "codemirror_mode": {
    "name": "ipython",
    "version": 3
   },
   "file_extension": ".py",
   "mimetype": "text/x-python",
   "name": "python",
   "nbconvert_exporter": "python",
   "pygments_lexer": "ipython3",
   "version": "3.9.18"
  }
 },
 "nbformat": 4,
 "nbformat_minor": 2
}
