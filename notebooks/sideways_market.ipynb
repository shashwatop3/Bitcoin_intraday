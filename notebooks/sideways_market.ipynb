{
 "cells": [
  {
   "cell_type": "code",
   "execution_count": 4,
   "metadata": {},
   "outputs": [],
   "source": [
    "import pandas as pd\n",
    "import numpy as np\n",
    "import matplotlib.pyplot as plt\n",
    "import seaborn as sns\n",
    "from sklearn.preprocessing import StandardScaler\n",
    "from keras.models import Sequential\n",
    "from keras.layers import LSTM, Dense, Dropout\n",
    "\n",
    "        "
   ]
  },
  {
   "cell_type": "code",
   "execution_count": 5,
   "metadata": {},
   "outputs": [],
   "source": [
    "df = pd.read_parquet('../data/btcusd_preprcd_with_regimes.parquet')\n",
    "df = df[df['regime'] == 1]"
   ]
  },
  {
   "cell_type": "code",
   "execution_count": 6,
   "metadata": {},
   "outputs": [
    {
     "name": "stdout",
     "output_type": "stream",
     "text": [
      "<class 'pandas.core.frame.DataFrame'>\n",
      "Index: 257297 entries, 47 to 292666\n",
      "Data columns (total 10 columns):\n",
      " #   Column            Non-Null Count   Dtype  \n",
      "---  ------            --------------   -----  \n",
      " 0   close             257297 non-null  float64\n",
      " 1   BB_up_diff        257297 non-null  float64\n",
      " 2   BB_down_diff      257297 non-null  float64\n",
      " 3   OBV               257297 non-null  float64\n",
      " 4   MACD_Histogram    257297 non-null  float64\n",
      " 5   RSI               257297 non-null  float64\n",
      " 6   CCI               257297 non-null  float64\n",
      " 7   predict_trend     257293 non-null  float64\n",
      " 8   regime            257297 non-null  float64\n",
      " 9   smoothed_regimes  257297 non-null  float64\n",
      "dtypes: float64(10)\n",
      "memory usage: 21.6 MB\n"
     ]
    }
   ],
   "source": [
    "df.info()"
   ]
  }
 ],
 "metadata": {
  "kernelspec": {
   "display_name": "Universal",
   "language": "python",
   "name": "python3"
  },
  "language_info": {
   "codemirror_mode": {
    "name": "ipython",
    "version": 3
   },
   "file_extension": ".py",
   "mimetype": "text/x-python",
   "name": "python",
   "nbconvert_exporter": "python",
   "pygments_lexer": "ipython3",
   "version": "3.9.18"
  }
 },
 "nbformat": 4,
 "nbformat_minor": 2
}
