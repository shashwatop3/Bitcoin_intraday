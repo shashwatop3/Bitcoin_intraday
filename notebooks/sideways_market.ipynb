{
 "cells": [
  {
   "cell_type": "code",
   "execution_count": 61,
   "metadata": {},
   "outputs": [],
   "source": [
    "import pandas as pd\n",
    "import numpy as np\n",
    "import matplotlib.pyplot as plt\n",
    "import seaborn as sns\n",
    "from sklearn.preprocessing import StandardScaler\n",
    "from keras.models import Sequential\n",
    "from keras.layers import LSTM, Dense, Dropout\n",
    "from sklearn.preprocessing import StandardScaler, RobustScaler, MinMaxScaler\n",
    "import numpy as np\n",
    "\n",
    "        "
   ]
  },
  {
   "cell_type": "code",
   "execution_count": 62,
   "metadata": {},
   "outputs": [],
   "source": [
    "df = pd.read_parquet('../data/btcusd_precrd_regression.parquet')\n",
    "df.dropna(inplace=True)"
   ]
  },
  {
   "cell_type": "code",
   "execution_count": 63,
   "metadata": {},
   "outputs": [
    {
     "data": {
      "text/plain": [
       "open              0\n",
       "high              0\n",
       "low               0\n",
       "close             0\n",
       "BB_up_diff        0\n",
       "BB_down_diff      0\n",
       "OBV_Z             0\n",
       "MACD_Histogram    0\n",
       "RSI               0\n",
       "CCI               0\n",
       "predict_trend     0\n",
       "dtype: int64"
      ]
     },
     "execution_count": 63,
     "metadata": {},
     "output_type": "execute_result"
    }
   ],
   "source": [
    "df.describe()\n",
    "df.isna().sum()"
   ]
  },
  {
   "cell_type": "code",
   "execution_count": 64,
   "metadata": {},
   "outputs": [],
   "source": [
    "def preprocess_data(train_df):\n",
    "    # Log-transform prices\n",
    "    for col in ['open', 'high', 'low', 'close']:\n",
    "        train_df[f'{col}_log_return'] = np.log(train_df[col] / train_df[col].shift(1))\n",
    "    \n",
    "    # Robust scaling for Bollinger features\n",
    "    robust_cols = ['BB_up_diff', 'BB_down_diff']\n",
    "    robust_scaler = RobustScaler().fit(train_df[robust_cols])\n",
    "    train_df[robust_cols] = robust_scaler.transform(train_df[robust_cols])\n",
    "    \n",
    "    # Standard scaling for MACD and CCI\n",
    "    std_cols = ['MACD_Histogram', 'CCI']\n",
    "    std_scaler = StandardScaler().fit(train_df[std_cols])\n",
    "    train_df[std_cols] = std_scaler.transform(train_df[std_cols])\n",
    "    \n",
    "    # MinMax for RSI (focus on 30–70 range)\n",
    "    train_df['RSI'] = np.clip(train_df['RSI'], 30, 70)\n",
    "    rsi_scaler = MinMaxScaler(feature_range=(0, 1)).fit(train_df[['RSI']])\n",
    "    train_df['RSI'] = rsi_scaler.transform(train_df[['RSI']])\n",
    "    \n",
    "    return train_df"
   ]
  },
  {
   "cell_type": "code",
   "execution_count": 65,
   "metadata": {},
   "outputs": [],
   "source": [
    "df = preprocess_data(df)"
   ]
  },
  {
   "cell_type": "code",
   "execution_count": 66,
   "metadata": {},
   "outputs": [],
   "source": [
    "y = df['predict_trend']\n",
    "x = df.drop(columns=['predict_trend'])\n",
    "x_train = x[:int(len(x)*0.6)]\n",
    "y_train = y[:int(len(x)*0.6)]\n",
    "x_val = x[int(len(x)*0.6):int(len(x)*0.8)]\n",
    "y_val = y[int(len(x)*0.6):int(len(x)*0.8)]\n",
    "x_test = x[int(len(x)*0.8):]\n",
    "y_test = y[int(len(x)*0.8):]"
   ]
  },
  {
   "cell_type": "code",
   "execution_count": 67,
   "metadata": {},
   "outputs": [
    {
     "name": "stdout",
     "output_type": "stream",
     "text": [
      "open                0\n",
      "high                0\n",
      "low                 0\n",
      "close               0\n",
      "BB_up_diff          0\n",
      "BB_down_diff        0\n",
      "OBV_Z               0\n",
      "MACD_Histogram      0\n",
      "RSI                 0\n",
      "CCI                 0\n",
      "open_log_return     1\n",
      "high_log_return     1\n",
      "low_log_return      1\n",
      "close_log_return    1\n",
      "dtype: int64 open                0\n",
      "high                0\n",
      "low                 0\n",
      "close               0\n",
      "BB_up_diff          0\n",
      "BB_down_diff        0\n",
      "OBV_Z               0\n",
      "MACD_Histogram      0\n",
      "RSI                 0\n",
      "CCI                 0\n",
      "open_log_return     0\n",
      "high_log_return     0\n",
      "low_log_return      0\n",
      "close_log_return    0\n",
      "dtype: int64\n",
      "0 0\n",
      "open                0\n",
      "high                0\n",
      "low                 0\n",
      "close               0\n",
      "BB_up_diff          0\n",
      "BB_down_diff        0\n",
      "OBV_Z               0\n",
      "MACD_Histogram      0\n",
      "RSI                 0\n",
      "CCI                 0\n",
      "open_log_return     0\n",
      "high_log_return     0\n",
      "low_log_return      0\n",
      "close_log_return    0\n",
      "dtype: int64 open                0\n",
      "high                0\n",
      "low                 0\n",
      "close               0\n",
      "BB_up_diff          0\n",
      "BB_down_diff        0\n",
      "OBV_Z               0\n",
      "MACD_Histogram      0\n",
      "RSI                 0\n",
      "CCI                 0\n",
      "open_log_return     0\n",
      "high_log_return     0\n",
      "low_log_return      0\n",
      "close_log_return    0\n",
      "dtype: int64\n",
      "0 0\n"
     ]
    }
   ],
   "source": [
    "import numpy as np\n",
    "\n",
    "print(np.isnan(x_train).sum(), np.isinf(x_train).sum())  # Check x_train\n",
    "print(np.isnan(y_train).sum(), np.isinf(y_train).sum())  # Check y_train\n",
    "print(np.isnan(x_val).sum(), np.isinf(x_val).sum())      # Check x_val\n",
    "print(np.isnan(y_val).sum(), np.isinf(y_val).sum())      # Check y_val"
   ]
  },
  {
   "cell_type": "code",
   "execution_count": 68,
   "metadata": {},
   "outputs": [],
   "source": [
    "x_train = np.nan_to_num(x_train, nan=0.0, posinf=0.0, neginf=0.0)\n",
    "y_train = np.nan_to_num(y_train, nan=0.0, posinf=0.0, neginf=0.0)\n",
    "x_val = np.nan_to_num(x_val, nan=0.0, posinf=0.0, neginf=0.0)\n",
    "y_val = np.nan_to_num(y_val, nan=0.0, posinf=0.0, neginf=0.0)"
   ]
  },
  {
   "cell_type": "code",
   "execution_count": 69,
   "metadata": {},
   "outputs": [
    {
     "name": "stderr",
     "output_type": "stream",
     "text": [
      "/opt/anaconda3/envs/Universal/lib/python3.9/site-packages/keras/src/layers/rnn/rnn.py:204: UserWarning: Do not pass an `input_shape`/`input_dim` argument to a layer. When using Sequential models, prefer using an `Input(shape)` object as the first layer in the model instead.\n",
      "  super().__init__(**kwargs)\n"
     ]
    }
   ],
   "source": [
    "model = Sequential()\n",
    "model.add(LSTM(units=50, return_sequences=True, input_shape=(df.shape[1], 1)))\n",
    "model.add(Dropout(0.2))\n",
    "model.add(LSTM(units=50, return_sequences=True))\n",
    "model.add(Dropout(0.2))\n",
    "model.add(LSTM(units=50))\n",
    "model.add(Dropout(0.2))\n",
    "model.add(Dense(units=1))\n",
    "\n",
    "model.compile(optimizer='adam', loss='mean_squared_error')\n"
   ]
  },
  {
   "cell_type": "code",
   "execution_count": null,
   "metadata": {},
   "outputs": [
    {
     "name": "stdout",
     "output_type": "stream",
     "text": [
      "Epoch 1/100\n",
      "\u001b[1m4149/4149\u001b[0m \u001b[32m━━━━━━━━━━━━━━━━━━━━\u001b[0m\u001b[37m\u001b[0m \u001b[1m121s\u001b[0m 28ms/step - loss: 1123.4368 - val_loss: 34664.5625\n",
      "Epoch 2/100\n",
      "\u001b[1m4149/4149\u001b[0m \u001b[32m━━━━━━━━━━━━━━━━━━━━\u001b[0m\u001b[37m\u001b[0m \u001b[1m83s\u001b[0m 20ms/step - loss: 1092.4630 - val_loss: 34665.9609\n",
      "Epoch 3/100\n",
      "\u001b[1m4149/4149\u001b[0m \u001b[32m━━━━━━━━━━━━━━━━━━━━\u001b[0m\u001b[37m\u001b[0m \u001b[1m77s\u001b[0m 19ms/step - loss: 1081.8931 - val_loss: 34665.7305\n",
      "Epoch 4/100\n",
      "\u001b[1m4149/4149\u001b[0m \u001b[32m━━━━━━━━━━━━━━━━━━━━\u001b[0m\u001b[37m\u001b[0m \u001b[1m82s\u001b[0m 20ms/step - loss: 1066.9144 - val_loss: 34666.3711\n",
      "Epoch 5/100\n",
      "\u001b[1m4149/4149\u001b[0m \u001b[32m━━━━━━━━━━━━━━━━━━━━\u001b[0m\u001b[37m\u001b[0m \u001b[1m79s\u001b[0m 19ms/step - loss: 1102.3198 - val_loss: 34667.3320\n",
      "Epoch 6/100\n",
      "\u001b[1m4149/4149\u001b[0m \u001b[32m━━━━━━━━━━━━━━━━━━━━\u001b[0m\u001b[37m\u001b[0m \u001b[1m78s\u001b[0m 19ms/step - loss: 1116.5245 - val_loss: 34666.4883\n",
      "Epoch 7/100\n",
      "\u001b[1m4149/4149\u001b[0m \u001b[32m━━━━━━━━━━━━━━━━━━━━\u001b[0m\u001b[37m\u001b[0m \u001b[1m79s\u001b[0m 19ms/step - loss: 1128.3428 - val_loss: 34665.6172\n",
      "Epoch 8/100\n",
      "\u001b[1m4149/4149\u001b[0m \u001b[32m━━━━━━━━━━━━━━━━━━━━\u001b[0m\u001b[37m\u001b[0m \u001b[1m79s\u001b[0m 19ms/step - loss: 1065.1829 - val_loss: 34666.1250\n",
      "Epoch 9/100\n",
      "\u001b[1m4146/4149\u001b[0m \u001b[32m━━━━━━━━━━━━━━━━━━━\u001b[0m\u001b[37m━\u001b[0m \u001b[1m0s\u001b[0m 21ms/step - loss: 1062.0830"
     ]
    }
   ],
   "source": [
    "model.fit(x_train, y_train, epochs=100, batch_size=64, validation_data=(x_val, y_val), verbose=1)"
   ]
  }
 ],
 "metadata": {
  "kernelspec": {
   "display_name": "Universal",
   "language": "python",
   "name": "python3"
  },
  "language_info": {
   "codemirror_mode": {
    "name": "ipython",
    "version": 3
   },
   "file_extension": ".py",
   "mimetype": "text/x-python",
   "name": "python",
   "nbconvert_exporter": "python",
   "pygments_lexer": "ipython3",
   "version": "3.9.18"
  }
 },
 "nbformat": 4,
 "nbformat_minor": 2
}
